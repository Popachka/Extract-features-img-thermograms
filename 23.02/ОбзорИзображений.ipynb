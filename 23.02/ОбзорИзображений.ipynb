{
 "cells": [
  {
   "cell_type": "code",
   "execution_count": 1,
   "metadata": {},
   "outputs": [],
   "source": [
    "import os\n",
    "import numpy as np \n",
    "import cv2 as cv2\n",
    "import matplotlib.pyplot as plt"
   ]
  },
  {
   "cell_type": "code",
   "execution_count": 2,
   "metadata": {},
   "outputs": [],
   "source": [
    "img = cv2.imread('D:\\__Study__\\CluseterTerm\\Combined\\\\0002AA00162C.jpg')\n",
    "# img = cv2.resize(img, (500, 500))\n"
   ]
  },
  {
   "cell_type": "code",
   "execution_count": 3,
   "metadata": {},
   "outputs": [
    {
     "name": "stdout",
     "output_type": "stream",
     "text": [
      "Ширина: 500 пикселей\n",
      "Высота: 530 пикселей\n",
      "Количество каналов: 3\n"
     ]
    }
   ],
   "source": [
    "# Проверка на успешную загрузку изображения\n",
    "if img is not None:\n",
    "    # Получение размеров изображения\n",
    "    height, width, channels = img.shape\n",
    "\n",
    "    # Вывод информации\n",
    "    print(f\"Ширина: {width} пикселей\")\n",
    "    print(f\"Высота: {height} пикселей\")\n",
    "    print(f\"Количество каналов: {channels}\")\n",
    "else:\n",
    "    print(\"Ошибка загрузки изображения.\")"
   ]
  },
  {
   "cell_type": "code",
   "execution_count": 4,
   "metadata": {},
   "outputs": [
    {
     "name": "stdout",
     "output_type": "stream",
     "text": [
      "(212, 212, 3)\n",
      "Ширина: 212 пикселей\n",
      "Высота: 212 пикселей\n",
      "Количество каналов: 3\n",
      "(212, 212, 3)\n",
      "Ширина: 212 пикселей\n",
      "Высота: 212 пикселей\n",
      "Количество каналов: 3\n",
      "(212, 212, 3)\n",
      "Ширина: 212 пикселей\n",
      "Высота: 212 пикселей\n",
      "Количество каналов: 3\n",
      "(212, 212, 3)\n",
      "Ширина: 212 пикселей\n",
      "Высота: 212 пикселей\n",
      "Количество каналов: 3\n"
     ]
    }
   ],
   "source": [
    "gray = cv2.cvtColor(img, cv2.COLOR_BGR2GRAY)\n",
    "\n",
    "# Применение размытия для уменьшения шумов\n",
    "blurred = cv2.medianBlur(gray, 5)\n",
    "\n",
    "# Применение кругового преобразования Хафа\n",
    "# circles = cv2.HoughCircles(blurred, cv2.HOUGH_GRADIENT, dp=5, minDist=200, param1=50, param2=30, minRadius=70, maxRadius=106)\n",
    "circles = cv2.HoughCircles(blurred, cv2.HOUGH_GRADIENT, dp=5, minDist=200, param1=50, param2=30, minRadius=70, maxRadius=109)\n",
    "\n",
    "\n",
    "# Проверка, найдены ли круги\n",
    "if circles is not None:\n",
    "    circles = np.uint16(np.around(circles))\n",
    "    # Список для хранения круговых ROI\n",
    "    roi_list = []\n",
    "    # Извлечение каждого кругового ROI\n",
    "    for i, circle in enumerate(circles[0, :]):\n",
    "        center_x, center_y, radius = circle[0], circle[1], circle[2]\n",
    "\n",
    "        # Извлечение ROI с учетом радиуса\n",
    "        roi = img[center_y - radius:center_y + radius, center_x - radius:center_x + radius]\n",
    "\n",
    "        # Добавление кругового ROI в список\n",
    "        roi_list.append(roi)\n",
    "        # Сохранение каждого кругового ROI в отдельном файле\n",
    "        cv2.imwrite(f'./Example_img/roi_{i+1}.jpg', roi)\n",
    "\n",
    "    # Теперь вы можете использовать roi_list для дальнейшей обработки каждого круга\n",
    "    for i, roi in enumerate(roi_list):\n",
    "        # отобразить каждый круговой ROI\n",
    "        height, width, channels = roi.shape\n",
    "        print(roi.shape)\n",
    "\n",
    "        print(f\"Ширина: {width} пикселей\")\n",
    "        print(f\"Высота: {height} пикселей\")\n",
    "        print(f\"Количество каналов: {channels}\")\n",
    "        cv2.imshow(f'ROI {i+1}', roi)\n",
    "        cv2.waitKey(0)\n",
    "        cv2.destroyAllWindows()\n",
    "else:\n",
    "    print(\"Круги не обнаружены.\")"
   ]
  },
  {
   "cell_type": "code",
   "execution_count": 5,
   "metadata": {},
   "outputs": [
    {
     "data": {
      "text/plain": [
       "(4, 212, 212, 3)"
      ]
     },
     "execution_count": 5,
     "metadata": {},
     "output_type": "execute_result"
    }
   ],
   "source": [
    "roi_list = np.array(roi_list)\n",
    "roi_list.shape"
   ]
  },
  {
   "cell_type": "code",
   "execution_count": 6,
   "metadata": {},
   "outputs": [],
   "source": [
    "# Вычислите абсолютную разность между изображениями\n",
    "diff1 = cv2.absdiff(roi_list[0], roi_list[3])\n",
    "\n",
    "diff2 = cv2.absdiff(roi_list[1], roi_list[2])\n",
    "\n",
    "cv2.imwrite(f'./Example_img/Module diff skin.jpg', diff1)\n",
    "cv2.imwrite(f'./Example_img/Module diff deep.jpg', diff2)\n",
    "\n",
    "\n",
    "# Визуализация результатов\n",
    "cv2.imshow('absdiff skin', diff1)\n",
    "cv2.imshow('absdiff deep', diff2)\n",
    "cv2.waitKey(0)\n",
    "cv2.destroyAllWindows()"
   ]
  },
  {
   "cell_type": "code",
   "execution_count": 7,
   "metadata": {},
   "outputs": [],
   "source": [
    "# Вычитание с насыщением между roi_list[0] и roi_list[1]\n",
    "diff1 = cv2.subtract(roi_list[3], roi_list[0])\n",
    "\n",
    "# Вычитание с насыщением между roi_list[2] и roi_list[3]\n",
    "diff2 = cv2.subtract(roi_list[2], roi_list[1])\n",
    "\n",
    "cv2.imwrite(f'./Example_img/Saturation diff skin.jpg', diff1)\n",
    "cv2.imwrite(f'./Example_img/Saturation diff deep.jpg', diff2)\n",
    "\n",
    "# Визуализация результатов\n",
    "cv2.imshow('saturation skin', diff1)\n",
    "cv2.imshow('saturation deep', diff2)\n",
    "cv2.waitKey(0)\n",
    "cv2.destroyAllWindows()"
   ]
  }
 ],
 "metadata": {
  "kernelspec": {
   "display_name": "myvenv",
   "language": "python",
   "name": "python3"
  },
  "language_info": {
   "codemirror_mode": {
    "name": "ipython",
    "version": 3
   },
   "file_extension": ".py",
   "mimetype": "text/x-python",
   "name": "python",
   "nbconvert_exporter": "python",
   "pygments_lexer": "ipython3",
   "version": "3.11.8"
  }
 },
 "nbformat": 4,
 "nbformat_minor": 2
}
