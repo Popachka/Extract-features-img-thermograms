{
 "cells": [
  {
   "cell_type": "code",
   "execution_count": 1,
   "metadata": {},
   "outputs": [],
   "source": [
    "import os\n",
    "import numpy as np \n",
    "import cv2 as cv2"
   ]
  },
  {
   "cell_type": "code",
   "execution_count": 2,
   "metadata": {},
   "outputs": [],
   "source": [
    "img = cv2.imread('D:\\__Study__\\CluseterTerm\\Combined\\\\0002AA00162C.jpg')\n",
    "# img = cv2.resize(img, (500, 500))\n"
   ]
  },
  {
   "cell_type": "code",
   "execution_count": 3,
   "metadata": {},
   "outputs": [
    {
     "name": "stdout",
     "output_type": "stream",
     "text": [
      "----------------------\n",
      "Координаты центра 368 138\n",
      "Радиус 106\n",
      "Средний градиент по магнитуде 1320.3953179408677\n",
      "Средний градиент по углу 0.09683578178019048\n",
      "Дисперсия цвета (BGR) [ 6672.41522006  5784.49411766 11298.81073017]\n",
      "Средний цвет (BGR) [204.04383232 204.49710751  73.27772339]\n",
      "----------------------\n",
      "Координаты центра 368 402\n",
      "Радиус 106\n",
      "Средний градиент по магнитуде 1308.7154937608593\n",
      "Средний градиент по углу 0.03680403172798241\n",
      "Дисперсия цвета (BGR) [ 3410.37094079  6684.47130935 11067.77097683]\n",
      "Средний цвет (BGR) [225.52331791 187.37722499  65.5246084 ]\n",
      "----------------------\n",
      "Координаты центра 132 402\n",
      "Радиус 106\n",
      "Средний градиент по магнитуде 954.659515372968\n",
      "Средний градиент по углу 0.02462642366231482\n",
      "Дисперсия цвета (BGR) [10989.07775879   999.4247525   7301.89355676]\n",
      "Средний цвет (BGR) [ 65.0756497  246.34356088 154.53889284]\n",
      "----------------------\n",
      "Координаты центра 132 138\n",
      "Радиус 106\n",
      "Средний градиент по магнитуде 1237.5424702170565\n",
      "Средний градиент по углу 0.028826917769228563\n",
      "Дисперсия цвета (BGR) [10875.1982024   4470.7509459   7727.82821066]\n",
      "Средний цвет (BGR) [ 67.02750089 224.25329299 192.46141865]\n"
     ]
    }
   ],
   "source": [
    "gray = cv2.cvtColor(img, cv2.COLOR_BGR2GRAY)\n",
    "\n",
    "# Применение размытия для уменьшения шумов\n",
    "blurred = cv2.medianBlur(gray, 5)\n",
    "\n",
    "# Применение кругового преобразования Хафа\n",
    "circles = cv2.HoughCircles(blurred, cv2.HOUGH_GRADIENT, dp=5, minDist=200, param1=50, param2=30, minRadius=70, maxRadius=109)\n",
    "\n",
    "# Проверка, были ли обнаружены круги\n",
    "if circles is not None:\n",
    "    circles = np.round(circles[0, :]).astype(int)\n",
    "    circle_regions = []\n",
    "    roi_list = []\n",
    "\n",
    "    # Обработка каждого обнаруженного круга\n",
    "    for x, y, r in circles:\n",
    "        # Нарисовать окружность вокруг круга на исходном изображении\n",
    "        cv2.circle(img, (x, y), r, (0, 255, 0), 2)\n",
    "\n",
    "        # Выделить область вокруг круга\n",
    "        circle_roi = img[y - r:y + r, x - r:x + r]\n",
    "        roi_list.append(circle_roi)\n",
    "        \n",
    "        # Вычислить градиенты по x и y направлениям\n",
    "        gradient_x = cv2.Sobel(circle_roi, cv2.CV_64F, 1, 0, ksize=5)\n",
    "        gradient_y = cv2.Sobel(circle_roi, cv2.CV_64F, 0, 1, ksize=5)\n",
    "\n",
    "        # Вычислить магнитуду и угол градиента\n",
    "        gradient_magnitude = np.sqrt(gradient_x**2 + gradient_y**2)\n",
    "        gradient_angle = np.arctan2(gradient_y, gradient_x)\n",
    "\n",
    "        # Вычислить средние значения градиента по области\n",
    "        mean_gradient_magnitude = np.mean(gradient_magnitude)\n",
    "        mean_gradient_angle = np.mean(gradient_angle)\n",
    "\n",
    "        # Вычисление среднего цвета (BGR)\n",
    "        circle_mean_color = np.mean(circle_roi, axis=(0, 1))\n",
    "\n",
    "        # Вычисление дисперсии цвета (BGR)\n",
    "        circle_color_variance = np.var(circle_roi, axis=(0, 1))\n",
    "\n",
    "        # Вычисление гистограммы цвета (BGR)\n",
    "        histogram_b = cv2.calcHist([circle_roi], [0], None, [256], [0, 256])\n",
    "        histogram_g = cv2.calcHist([circle_roi], [1], None, [256], [0, 256])\n",
    "        histogram_r = cv2.calcHist([circle_roi], [2], None, [256], [0, 256])\n",
    "\n",
    "        # Нормализация гистограмм\n",
    "        histogram_b /= np.sum(histogram_b)\n",
    "        histogram_g /= np.sum(histogram_g)\n",
    "        histogram_r /= np.sum(histogram_r)\n",
    "        \n",
    "        # Вывести информацию о круге\n",
    "        print('----------------------')\n",
    "        print('Координаты центра', x, y)\n",
    "        print('Радиус', r)\n",
    "        print('Средний градиент по магнитуде', mean_gradient_magnitude)\n",
    "        print('Средний градиент по углу', mean_gradient_angle)\n",
    "        print('Дисперсия цвета (BGR)', circle_color_variance)\n",
    "        print('Средний цвет (BGR)', circle_mean_color)\n",
    "\n",
    "        # Добавить область в список\n",
    "        circle_regions.append({\n",
    "            'x': x,\n",
    "            'y': y,\n",
    "            'radius': r,\n",
    "            'mean_gradient_magnitude': mean_gradient_magnitude,\n",
    "            'mean_gradient_angle': mean_gradient_angle,\n",
    "            'circle_mean_color': circle_mean_color,\n",
    "            'circle_color_variance': circle_color_variance\n",
    "        })\n",
    "\n",
    "    # Показать изображение с нарисованными кругами\n",
    "    cv2.imshow('Detected Circles', img)\n",
    "    cv2.waitKey(0)\n",
    "    cv2.destroyAllWindows()"
   ]
  },
  {
   "cell_type": "code",
   "execution_count": 4,
   "metadata": {},
   "outputs": [],
   "source": []
  },
  {
   "cell_type": "code",
   "execution_count": null,
   "metadata": {},
   "outputs": [],
   "source": []
  }
 ],
 "metadata": {
  "kernelspec": {
   "display_name": "myvenv",
   "language": "python",
   "name": "python3"
  },
  "language_info": {
   "codemirror_mode": {
    "name": "ipython",
    "version": 3
   },
   "file_extension": ".py",
   "mimetype": "text/x-python",
   "name": "python",
   "nbconvert_exporter": "python",
   "pygments_lexer": "ipython3",
   "version": "3.11.8"
  }
 },
 "nbformat": 4,
 "nbformat_minor": 2
}
