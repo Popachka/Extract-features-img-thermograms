{
 "cells": [
  {
   "cell_type": "code",
   "execution_count": 1,
   "metadata": {},
   "outputs": [],
   "source": [
    "import os\n",
    "import numpy as np \n",
    "import cv2 as cv2\n",
    "import matplotlib.pyplot as plt"
   ]
  },
  {
   "cell_type": "code",
   "execution_count": 2,
   "metadata": {},
   "outputs": [
    {
     "name": "stdout",
     "output_type": "stream",
     "text": [
      "(212, 212)\n"
     ]
    }
   ],
   "source": [
    "# Загрузка изображений\n",
    "img1 = cv2.imread('D:\\\\__Study__\\\\CluseterTerm\\\\My_Baseline\\\\23.02\\\\Example_img\\\\roi_1.jpg', cv2.IMREAD_GRAYSCALE)\n",
    "img2 = cv2.imread('D:\\\\__Study__\\\\CluseterTerm\\\\My_Baseline\\\\23.02\\\\Example_img\\\\roi_4.jpg', cv2.IMREAD_GRAYSCALE)\n",
    "print(img1.shape)\n",
    "# Проверка на успешную загрузку\n",
    "if img1 is None or img2 is None:\n",
    "    print(\"Ошибка при загрузке изображений.\")\n",
    "else:\n",
    "    # Вычисление разности значений\n",
    "    difference = img1.astype(np.float32) - img2.astype(np.float32)\n",
    "    \n",
    "    difference = (difference - difference.min()) / (difference.max() - difference.min()) * 255\n",
    "\n",
    "    \n",
    "    # Преобразование обратно в формат изображения\n",
    "    difference_image = difference.astype(np.uint8)\n",
    "    \n",
    "    # Накладывание тепловой карты (может потребоваться настройка цветовой карты)\n",
    "    colored_difference = cv2.applyColorMap(difference_image, cv2.COLORMAP_HOT)\n",
    "    # cv2.imshow('Colored Difference', colored_difference)\n",
    "    # cv2.imshow('diff image', difference_image)\n",
    "    # cv2.imshow('Image 1', img1)\n",
    "    # cv2.imshow('Image 2', img2)\n",
    "    # cv2.waitKey(0)\n",
    "    # cv2.destroyAllWindows()"
   ]
  },
  {
   "cell_type": "code",
   "execution_count": 3,
   "metadata": {},
   "outputs": [],
   "source": [
    "import cv2\n",
    "import numpy as np\n",
    "\n",
    "# Загрузка RGB изображения с температурным полем\n",
    "temperature_image = cv2.imread('D:\\\\__Study__\\\\CluseterTerm\\\\My_Baseline\\\\23.02\\\\Example_img\\\\roi_1.jpg')\n",
    "\n",
    "# Конвертация изображения из RGB в HSV\n",
    "hsv_image = cv2.cvtColor(temperature_image, cv2.COLOR_BGR2HSV)\n",
    "\n",
    "# Выделение канала оттенка (H)\n",
    "hue_channel = hsv_image[:, :, 0]\n",
    "\n",
    "# Нормализация значений канала оттенка в диапазон [0, 1]\n",
    "normalized_hue = hue_channel / 179.0  # 179 - максимальное значение в канале оттенка\n",
    "\n",
    "# Создание маски для выделения областей с высокой температурой (например, красного цвета)\n",
    "temperature_mask = cv2.inRange(normalized_hue, 0.7, 1.0)  # Настройте пороги в соответствии с вашими данными\n",
    "\n",
    "# Создание маски для выделения областей с низкой температурой (например, синего цвета)\n",
    "# При необходимости можно также использовать cv2.inRange(normalized_hue, 0.0, 0.3)\n",
    "\n",
    "# Объединение масок, чтобы получить общую маску различий в температуре\n",
    "temperature_difference_mask = temperature_mask  # Дополнительно можно использовать логические операции\n",
    "\n",
    "# Применение маски к исходному изображению\n",
    "result_image = cv2.bitwise_and(temperature_image, temperature_image, mask=temperature_difference_mask)\n",
    "\n",
    "# Отображение результатов\n",
    "cv2.imshow('Temperature Difference', result_image)\n",
    "cv2.waitKey(0)\n",
    "cv2.destroyAllWindows()\n"
   ]
  },
  {
   "cell_type": "code",
   "execution_count": 4,
   "metadata": {},
   "outputs": [],
   "source": [
    "import cv2\n",
    "import numpy as np\n",
    "\n",
    "# Загрузите два RGB изображения\n",
    "img1 = cv2.imread('D:\\\\__Study__\\\\CluseterTerm\\\\My_Baseline\\\\23.02\\\\Example_img\\\\roi_1.jpg')\n",
    "img2 = cv2.imread('D:\\\\__Study__\\\\CluseterTerm\\\\My_Baseline\\\\23.02\\\\Example_img\\\\roi_4.jpg')\n",
    "\n",
    "# Преобразуйте изображения в оттенки серого\n",
    "gray1 = cv2.cvtColor(img1, cv2.COLOR_BGR2GRAY)\n",
    "gray2 = cv2.cvtColor(img2, cv2.COLOR_BGR2GRAY)\n",
    "\n",
    "# Рассчитайте абсолютную разницу между изображениями\n",
    "temperature_difference = cv2.absdiff(gray1, gray2)\n",
    "\n",
    "# Примените цветовую карту (в данном случае, использована colormap 'jet')\n",
    "colormap = cv2.applyColorMap(temperature_difference, cv2.COLORMAP_JET)\n",
    "\n",
    "# Отобразите результат\n",
    "cv2.imshow('Temperature Difference', temperature_difference)\n",
    "cv2.waitKey(0)\n",
    "cv2.destroyAllWindows()\n"
   ]
  },
  {
   "cell_type": "code",
   "execution_count": 11,
   "metadata": {},
   "outputs": [
    {
     "name": "stdout",
     "output_type": "stream",
     "text": [
      "RGB код пикселя (189, 117): [  2   1 251]\n",
      "RGB код пикселя (160, 52): [  0 229 255]\n",
      "RGB код пикселя (134, 50): [  1 255 255]\n",
      "RGB код пикселя (129, 40): [  1 255 254]\n"
     ]
    }
   ],
   "source": [
    "# Загрузка изображения\n",
    "image = cv2.imread('D:\\\\__Study__\\\\CluseterTerm\\\\My_Baseline\\\\23.02\\\\Example_img\\\\roi_4.jpg')\n",
    "# image_rgb = cv2.cvtColor(image)\n",
    "\n",
    "# Функция, которая будет вызываться при наведении курсора\n",
    "def on_mouse(event, x, y, flags, params):\n",
    "    if event == cv2.EVENT_LBUTTONDOWN:\n",
    "        rgb_code = image[y, x]\n",
    "        print(f'RGB код пикселя ({x}, {y}): {rgb_code}')\n",
    "\n",
    "# Создание окна и привязка функции к событию наведения курсора\n",
    "cv2.namedWindow('Image')\n",
    "cv2.setMouseCallback('Image', on_mouse)\n",
    "\n",
    "# Отображение изображения\n",
    "while True:\n",
    "    cv2.imshow('Image', image)\n",
    "    key = cv2.waitKey(1) & 0xFF\n",
    "    if key == 27:  # Нажатие клавиши Esc для завершения\n",
    "        break\n",
    "cv2.destroyAllWindows()"
   ]
  },
  {
   "cell_type": "code",
   "execution_count": 21,
   "metadata": {},
   "outputs": [],
   "source": [
    "\n",
    "# Загрузка изображения\n",
    "image_rgb = cv2.imread('D:\\\\__Study__\\\\CluseterTerm\\\\My_Baseline\\\\23.02\\\\Example_img\\\\roi_1.jpg')\n",
    "\n",
    "\n",
    "# Извлечение каналов RGB\n",
    "red_channel = image_rgb[:, :, 0]\n",
    "green_channel = image_rgb[:, :, 1]\n",
    "blue_channel = image_rgb[:, :, 2]\n",
    "\n",
    "# Проведение анализа переходов между цветами\n",
    "# Например, можно использовать пороговые значения для определения областей разных температур\n",
    "# Ниже приведен простой пример для выделения областей низкой и высокой температур\n",
    "\n",
    "low_temp_mask = (blue_channel > 200) & (green_channel < 200) & (red_channel < 70)\n",
    "high_temp_mask = (blue_channel < 100) & (green_channel < 150) & (red_channel > 200)\n",
    "# Создание изображения с красными оттенками для высокой температуры и синими оттенками для низкой\n",
    "result_image = np.zeros_like(image_rgb)\n",
    "result_image[high_temp_mask] = [255, 0, 0]  # Красный для высокой температуры\n",
    "result_image[low_temp_mask] = [0, 0, 255]   # Синий для низкой температуры\n",
    "\n",
    "cv2.imwrite(f'./Example_img/MaskOfTemp.jpg', result_image)\n",
    "\n",
    "# Отображение результата\n",
    "cv2.imshow('Combined Temperature Image', result_image)\n",
    "cv2.waitKey(0)\n",
    "cv2.destroyAllWindows()\n"
   ]
  },
  {
   "cell_type": "code",
   "execution_count": 25,
   "metadata": {},
   "outputs": [
    {
     "ename": "ValueError",
     "evalue": "operands could not be broadcast together with shapes (211,212) (212,211) ",
     "output_type": "error",
     "traceback": [
      "\u001b[1;31m---------------------------------------------------------------------------\u001b[0m",
      "\u001b[1;31mValueError\u001b[0m                                Traceback (most recent call last)",
      "Cell \u001b[1;32mIn[25], line 24\u001b[0m\n\u001b[0;32m     21\u001b[0m b, g, r \u001b[38;5;241m=\u001b[39m cv2\u001b[38;5;241m.\u001b[39msplit(circle_roi)\n\u001b[0;32m     23\u001b[0m \u001b[38;5;66;03m# Рассчитываем градиент цвета как разность между компонентами\u001b[39;00m\n\u001b[1;32m---> 24\u001b[0m gradient \u001b[38;5;241m=\u001b[39m np\u001b[38;5;241m.\u001b[39msqrt(\u001b[43mnp\u001b[49m\u001b[38;5;241;43m.\u001b[39;49m\u001b[43mdiff\u001b[49m\u001b[43m(\u001b[49m\u001b[43mb\u001b[49m\u001b[43m,\u001b[49m\u001b[43m \u001b[49m\u001b[43maxis\u001b[49m\u001b[38;5;241;43m=\u001b[39;49m\u001b[38;5;241;43m0\u001b[39;49m\u001b[43m)\u001b[49m\u001b[38;5;241;43m*\u001b[39;49m\u001b[38;5;241;43m*\u001b[39;49m\u001b[38;5;241;43m2\u001b[39;49m\u001b[43m \u001b[49m\u001b[38;5;241;43m+\u001b[39;49m\u001b[43m \u001b[49m\u001b[43mnp\u001b[49m\u001b[38;5;241;43m.\u001b[39;49m\u001b[43mdiff\u001b[49m\u001b[43m(\u001b[49m\u001b[43mb\u001b[49m\u001b[43m,\u001b[49m\u001b[43m \u001b[49m\u001b[43maxis\u001b[49m\u001b[38;5;241;43m=\u001b[39;49m\u001b[38;5;241;43m1\u001b[39;49m\u001b[43m)\u001b[49m\u001b[38;5;241;43m*\u001b[39;49m\u001b[38;5;241;43m*\u001b[39;49m\u001b[38;5;241;43m2\u001b[39;49m \u001b[38;5;241m+\u001b[39m\n\u001b[0;32m     25\u001b[0m                    np\u001b[38;5;241m.\u001b[39mdiff(g, axis\u001b[38;5;241m=\u001b[39m\u001b[38;5;241m0\u001b[39m)\u001b[38;5;241m*\u001b[39m\u001b[38;5;241m*\u001b[39m\u001b[38;5;241m2\u001b[39m \u001b[38;5;241m+\u001b[39m np\u001b[38;5;241m.\u001b[39mdiff(g, axis\u001b[38;5;241m=\u001b[39m\u001b[38;5;241m1\u001b[39m)\u001b[38;5;241m*\u001b[39m\u001b[38;5;241m*\u001b[39m\u001b[38;5;241m2\u001b[39m \u001b[38;5;241m+\u001b[39m\n\u001b[0;32m     26\u001b[0m                    np\u001b[38;5;241m.\u001b[39mdiff(r, axis\u001b[38;5;241m=\u001b[39m\u001b[38;5;241m0\u001b[39m)\u001b[38;5;241m*\u001b[39m\u001b[38;5;241m*\u001b[39m\u001b[38;5;241m2\u001b[39m \u001b[38;5;241m+\u001b[39m np\u001b[38;5;241m.\u001b[39mdiff(r, axis\u001b[38;5;241m=\u001b[39m\u001b[38;5;241m1\u001b[39m)\u001b[38;5;241m*\u001b[39m\u001b[38;5;241m*\u001b[39m\u001b[38;5;241m2\u001b[39m)\n\u001b[0;32m     28\u001b[0m \u001b[38;5;66;03m# Средний градиент как мера температурного градиента\u001b[39;00m\n\u001b[0;32m     29\u001b[0m average_gradient \u001b[38;5;241m=\u001b[39m np\u001b[38;5;241m.\u001b[39mmean(gradient)\n",
      "\u001b[1;31mValueError\u001b[0m: operands could not be broadcast together with shapes (211,212) (212,211) "
     ]
    }
   ],
   "source": [
    "img = cv2.imread('D:\\__Study__\\CluseterTerm\\Combined\\\\0002AA00162C.jpg')\n",
    "\n",
    "gray = cv2.cvtColor(img, cv2.COLOR_BGR2GRAY)\n",
    "\n",
    "# Применение размытия для уменьшения шумов\n",
    "blurred = cv2.medianBlur(gray, 5)\n",
    "\n",
    "# Применение кругового преобразования Хафа\n",
    "circles = cv2.HoughCircles(blurred, cv2.HOUGH_GRADIENT, dp=5, minDist=200, param1=50, param2=30, minRadius=70, maxRadius=109)\n",
    "\n",
    "# Проверка, были ли обнаружены круги\n",
    "if circles is not None:\n",
    "    circles = np.round(circles[0, :]).astype(int)\n",
    "\n",
    "    # Обработка каждого обнаруженного круга\n",
    "    for x, y, r in circles:\n",
    "        # Выделение области вокруг круга\n",
    "        circle_roi = img[y - r:y + r, x - r:x + r]\n",
    "\n",
    "        # Извлечение компонент цвета BGR\n",
    "        b, g, r = cv2.split(circle_roi)\n",
    "\n",
    "        # Рассчитываем градиент цвета как разность между компонентами\n",
    "        gradient = np.sqrt(np.diff(b, axis=0)**2 + np.diff(b, axis=1)**2 +\n",
    "                           np.diff(g, axis=0)**2 + np.diff(g, axis=1)**2 +\n",
    "                           np.diff(r, axis=0)**2 + np.diff(r, axis=1)**2)\n",
    "\n",
    "        # Средний градиент как мера температурного градиента\n",
    "        average_gradient = np.mean(gradient)\n",
    "\n",
    "        # Вывод результата\n",
    "        print(f\"Средний градиент температуры в области: {average_gradient}\")\n",
    "\n",
    "        # Нарисовать окружность вокруг круга на исходном изображении\n",
    "        cv2.circle(img, (x, y), r, (0, 255, 0), 2)\n",
    "\n",
    "# Отображение изображения с нарисованными окружностями\n",
    "cv2.imshow('Detected Circles', img)\n",
    "cv2.waitKey(0)\n",
    "cv2.destroyAllWindows()\n",
    "cv2.destroyAllWindows()"
   ]
  }
 ],
 "metadata": {
  "kernelspec": {
   "display_name": "myvenv",
   "language": "python",
   "name": "python3"
  },
  "language_info": {
   "codemirror_mode": {
    "name": "ipython",
    "version": 3
   },
   "file_extension": ".py",
   "mimetype": "text/x-python",
   "name": "python",
   "nbconvert_exporter": "python",
   "pygments_lexer": "ipython3",
   "version": "3.11.8"
  }
 },
 "nbformat": 4,
 "nbformat_minor": 2
}
